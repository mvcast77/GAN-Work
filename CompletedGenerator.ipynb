{
  "nbformat": 4,
  "nbformat_minor": 0,
  "metadata": {
    "colab": {
      "provenance": []
    },
    "kernelspec": {
      "name": "python3",
      "display_name": "Python 3"
    },
    "language_info": {
      "name": "python"
    }
  },
  "cells": [
    {
      "cell_type": "code",
      "execution_count": null,
      "metadata": {
        "id": "yvVEeU0aFLuZ"
      },
      "outputs": [],
      "source": [
        "!pip install tensorflow~=2.6.0\n",
        "!pip install keras~=2.6.0\n",
        "import PIL\n",
        "import matplotlib.pyplot as plt\n",
        "import numpy as np\n",
        "import os\n",
        "import tensorflow as tf\n",
        "from tensorflow.python.keras import layers\n",
        "from tensorflow.keras.layers import (Dense, \n",
        "                                     BatchNormalization, \n",
        "                                     LeakyReLU, \n",
        "                                     Reshape, \n",
        "                                     Conv2DTranspose,\n",
        "                                     Conv2D,\n",
        "                                     Dropout,\n",
        "                                     Flatten)\n",
        "import time\n",
        "from IPython import display\n",
        "%matplotlib inline"
      ]
    },
    {
      "cell_type": "code",
      "source": [
        "model = tf.keras.model.load_model('/<location>/<model>')    #Loading the Model(?) from Save File\n",
        "\n",
        "while(1):\n",
        "  condition = input(\"Generate New Image? (Y/N): \\n\")\n",
        "  condition.lower()\n",
        "  if(condition == 'y' or condition == 'yes'):\n",
        "    noise = tf.random.normal([1, 100])                      #Generating new random noise to input into generator\n",
        "\n",
        "    generated_image = model(noise, training=False)          #Sending in Input to Generator, Recieving Image\n",
        "\n",
        "    plt.figure(figsize=(12,12))                             #Plotting the Image\n",
        "    print(generated_image[0, :, :, :].shape)                #check that image has scaled to correct size\n",
        "    plt.imshow(generated_image[0, :, :, :])\n",
        "    plt.show()\n",
        "\n",
        "  else: break;"
      ],
      "metadata": {
        "id": "Sh8PpJn2WWEY"
      },
      "execution_count": null,
      "outputs": []
    }
  ]
}