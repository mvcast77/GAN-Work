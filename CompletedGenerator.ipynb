{
  "cells": [
    {
      "cell_type": "code",
      "execution_count": null,
      "metadata": {
        "id": "yvVEeU0aFLuZ"
      },
      "outputs": [],
      "source": [
        "#!pip install tensorflow~=2.6.0\n",
        "#!pip install keras~=2.6.0\n",
        "import PIL\n",
        "import matplotlib.pyplot as plt\n",
        "import numpy as np\n",
        "import os\n",
        "import tensorflow as tf\n",
        "from tensorflow.python.keras import layers\n",
        "from tensorflow.keras.layers import (Dense, \n",
        "                                     BatchNormalization, \n",
        "                                     LeakyReLU, \n",
        "                                     Reshape, \n",
        "                                     Conv2DTranspose,\n",
        "                                     Conv2D,\n",
        "                                     Dropout,\n",
        "                                     Flatten)\n",
        "import time\n",
        "from IPython import display\n",
        "%matplotlib inline\n",
        "# Comment is a Test"
      ]
    },
    {
      "cell_type": "code",
      "execution_count": null,
      "metadata": {
        "id": "Sh8PpJn2WWEY"
      },
      "outputs": [],
      "source": [
        "model = tf.keras.model.load_model('/<location>/<model>')    #Loading the Model(?) from Save File\n",
        "\n",
        "while(1):\n",
        "  condition = input(\"Generate New Image? (Y/N): \\n\")\n",
        "  condition.lower()\n",
        "  if(condition == 'y' or condition == 'yes'):\n",
        "    noise = tf.random.normal([1, 100])                      #Generating new random noise to input into generator\n",
        "\n",
        "    generated_image = model(noise, training=False)          #Sending in Input to Generator, Recieving Image\n",
        "\n",
        "    plt.figure(figsize=(12,12))                             #Plotting the Image\n",
        "    print(generated_image[0, :, :, :].shape)                #check that image has scaled to correct size\n",
        "    plt.imshow(generated_image[0, :, :, :])\n",
        "    plt.show()\n",
        "\n",
        "  else: break;"
      ]
    }
  ],
  "metadata": {
    "colab": {
      "provenance": []
    },
    "kernelspec": {
      "display_name": "Python 3.9.13 64-bit (microsoft store)",
      "language": "python",
      "name": "python3"
    },
    "language_info": {
      "name": "python",
      "version": "3.9.13"
    },
    "vscode": {
      "interpreter": {
        "hash": "9f23c9f91c2dfb2c62a1ac6de8746b29aa1fc28b9b877c558c38d2599ebb40ee"
      }
    }
  },
  "nbformat": 4,
  "nbformat_minor": 0
}
