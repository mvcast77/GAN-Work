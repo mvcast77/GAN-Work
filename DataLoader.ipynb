{
 "cells": [
  {
   "cell_type": "code",
   "execution_count": 5,
   "metadata": {},
   "outputs": [
    {
     "ename": "ModuleNotFoundError",
     "evalue": "No module named 'pandas'",
     "output_type": "error",
     "traceback": [
      "\u001b[1;31m---------------------------------------------------------------------------\u001b[0m",
      "\u001b[1;31mModuleNotFoundError\u001b[0m                       Traceback (most recent call last)",
      "Cell \u001b[1;32mIn[5], line 3\u001b[0m\n\u001b[0;32m      1\u001b[0m \u001b[39mfrom\u001b[39;00m \u001b[39mos\u001b[39;00m \u001b[39mimport\u001b[39;00m listdir\n\u001b[0;32m      2\u001b[0m \u001b[39mimport\u001b[39;00m \u001b[39mcsv\u001b[39;00m\n\u001b[1;32m----> 3\u001b[0m \u001b[39mimport\u001b[39;00m \u001b[39mpandas\u001b[39;00m \u001b[39mas\u001b[39;00m \u001b[39mpd\u001b[39;00m\n\u001b[0;32m      5\u001b[0m path \u001b[39m=\u001b[39m \u001b[39m\"\u001b[39m\u001b[39mC:\u001b[39m\u001b[39m\\\u001b[39m\u001b[39mOverflowData\u001b[39m\u001b[39m\\\u001b[39m\u001b[39msign_mnist_train\u001b[39m\u001b[39m\"\u001b[39m\n\u001b[0;32m      6\u001b[0m TrainCSV \u001b[39m=\u001b[39m listdir(path)\n",
      "\u001b[1;31mModuleNotFoundError\u001b[0m: No module named 'pandas'"
     ]
    }
   ],
   "source": [
    "import csv\n",
    "import pandas as pd\n",
    "import numpy as np\n",
    "\n",
    "df = pd.read_csv('C:\\OverflowData\\sign_mnist_train.csv')\n",
    "\n",
    "allTrainImages = [[] for i in range(25)]\n",
    "\n",
    "for i in range(len(df)):\n",
    "  allTrainImages[int(df['label'][i])].append(df.iloc[i][1:])\n",
    "\n",
    "alphanumeric = 5\n",
    "\n",
    "trainImages = np.asarray(allTrainImages[alphanumeric])\n",
    "trainImages = trainImages.astype('float32')\n",
    "# trainImages = trainImages/255\t\t\t\t\t#Why do we need to divide the values again?\n",
    "\n",
    "print(trainImages)\t\t\t\t\t\t\t\t#trainImages should be exactly the same data type and structure\n",
    "\t\t\t\t\t\t\t\t\t\t\t\t#as we had before, let me know if not"
   ]
  }
 ],
 "metadata": {
  "kernelspec": {
   "display_name": "Python 3.9.13 64-bit (microsoft store)",
   "language": "python",
   "name": "python3"
  },
  "language_info": {
   "codemirror_mode": {
    "name": "ipython",
    "version": 3
   },
   "file_extension": ".py",
   "mimetype": "text/x-python",
   "name": "python",
   "nbconvert_exporter": "python",
   "pygments_lexer": "ipython3",
   "version": "3.9.13"
  },
  "orig_nbformat": 4,
  "vscode": {
   "interpreter": {
    "hash": "9f23c9f91c2dfb2c62a1ac6de8746b29aa1fc28b9b877c558c38d2599ebb40ee"
   }
  }
 },
 "nbformat": 4,
 "nbformat_minor": 2
}
