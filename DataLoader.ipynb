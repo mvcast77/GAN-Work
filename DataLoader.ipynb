import csv
import pandas as pd
import numpy as np
	
df = pd.read_csv('C:\OverflowData\sign_mnist_train.csv')

allTrainImages = [[] for i in range(25)]

for i in range(len(df)):
  allTrainImages[int(df['label'][i])].append(df.iloc[i][1:])

alphanumeric = 5

trainImages = np.asarray(allTrainImages[alphanumeric])
trainImages = trainImages.astype('float32')
# trainImages = trainImages/255					#Why do we need to divide the values again?

print(trainImages)								#trainImages should be exactly the same data type and structure
												#as we had before, let me know if not