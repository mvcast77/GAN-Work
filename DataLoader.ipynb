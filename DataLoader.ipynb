{
 "cells": [
  {
   "cell_type": "code",
   "execution_count": null,
   "metadata": {},
   "outputs": [],
   "source": [
    "import csv\n",
    "import pandas as pd\n",
    "import numpy as np\n",
    "\n",
    "df = pd.read_csv('C:\\OverflowData\\sign_mnist_train.csv')\n",
    "\n",
    "allTrainImages = [[] for i in range(25)]\n",
    "\n",
    "for i in range(len(df)):\n",
    "  allTrainImages[int(df['label'][i])].append(df.iloc[i][1:])\n",
    "\n",
    "alphanumeric = 5\n",
    "\n",
    "trainImages = np.asarray(allTrainImages[alphanumeric])\n",
    "trainImages = trainImages.astype('float32')\n",
    "# trainImages = trainImages/255\t\t\t\t\t#Why do we need to divide the values again?\n",
    "\n",
    "print(trainImages)\t\t\t\t\t\t\t\t#trainImages should be exactly the same data type and structure\n",
    "\t\t\t\t\t\t\t\t\t\t\t\t#as we had before, let me know if not"
   ]
  }
 ],
 "metadata": {
  "kernelspec": {
   "display_name": "Python 3.9.13 64-bit (microsoft store)",
   "language": "python",
   "name": "python3"
  },
  "language_info": {
   "codemirror_mode": {
    "name": "ipython",
    "version": 3
   },
   "file_extension": ".py",
   "mimetype": "text/x-python",
   "name": "python",
   "nbconvert_exporter": "python",
   "pygments_lexer": "ipython3",
   "version": "3.9.13"
  },
  "orig_nbformat": 4,
  "vscode": {
   "interpreter": {
    "hash": "9f23c9f91c2dfb2c62a1ac6de8746b29aa1fc28b9b877c558c38d2599ebb40ee"
   }
  }
 },
 "nbformat": 4,
 "nbformat_minor": 2
}
