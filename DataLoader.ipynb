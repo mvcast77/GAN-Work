{
 "cells": [
  {
   "cell_type": "code",
   "execution_count": null,
   "metadata": {},
   "outputs": [],
   "source": [
    "import csv\n",
    "import pandas as pd\n",
    "import numpy as np\n",
    "\n",
    "df = pd.read_csv('C:\\OverflowData\\sign_mnist_train.csv')\n",
    "\n",
    "allTrainImages = [[] for i in range(25)]\n",
    "\n",
    "for i in range(len(df)):\n",
    "  allTrainImages[int(df['label'][i])].append(df.iloc[i][1:])\n",
    "\n",
    "alphanumeric = 5\n",
    "\n",
    "trainImages = np.asarray(allTrainImages[alphanumeric])\n",
    "trainImages = trainImages.astype('float32')\n",
    "# trainImages = trainImages/255\t\t\t\t\t#Why do we need to divide the values again?\n",
    "\n",
    "print(trainImages)\t\t\t\t\t\t\t\t#trainImages should be exactly the same data type and structure\n",
    "\t\t\t\t\t\t\t\t\t\t\t\t#as we had before, let me know if not"
   ]
  },
  {
   "cell_type": "code",
   "execution_count": null,
   "metadata": {},
   "outputs": [],
   "source": [
    "def make_discriminator_model():\n",
    "    model = tf.keras.Sequential()\n",
    "    model.add(layers.Conv2D(64, (4, 4), strides=(1, 1), padding='valid', kernel_initializer=init, input_shape=[28, 28, 1]))\n",
    "    model.add(layers.BatchNormalization()) \n",
    "    model.add(layers.LeakyReLU(alpha=0.2))  #shape(25, 25, 64)\n",
    "\n",
    "    model.add(layers.Conv2D(128, (3, 3), strides=(2, 2), padding='same', kernel_initializer=init))\n",
    "    model.add(layers.BatchNormalization()) \n",
    "    model.add(layers.LeakyReLU(alpha=0.2))   #shape(13, 13, 128)\n",
    "\n",
    "    model.add(layers.Conv2D(256, (3, 3), strides=(2, 2), padding='same', kernel_initializer=init))\n",
    "    model.add(layers.BatchNormalization()) \n",
    "    model.add(layers.LeakyReLU(alpha=0.2))  #shape(7, 7, 256)\n",
    "    \n",
    "    model.add(layers.Dropout(0.3))  #dropout is used to prevent overfitting by setting inputs to 0 at a rate determined by paremeter \n",
    "                                   #while training. While have to test how this function affects performance\n",
    "\n",
    "    model.add(layers.Flatten()) #fits all elements into 1 dimension\n",
    "    model.add(layers.Dense(1,activation='sigmoid'))  #Creates a densely-connected layer of size 1\n",
    "\n",
    "    opt = tf.keras.optimizers.Adam(learning_rate=0.0001, beta_1=0.5)\n",
    "    model.compile(loss='binary_crossentropy', optimizer=opt, metrics=['accuracy'])\n",
    "\n",
    "    return model"
   ]
  },
  {
   "cell_type": "code",
   "execution_count": null,
   "metadata": {},
   "outputs": [],
   "source": [
    "def make_generator_model(): \n",
    "    model = tf.keras.Sequential() \n",
    "    model.add(layers.Dense(7*7*256, use_bias=False, input_shape=(100,))) \n",
    "    model.add(layers.BatchNormalization()) \n",
    "    model.add(layers.LeakyReLU(alpha=0.2)) \n",
    "    model.add(layers.Reshape((7, 7, 256))) \n",
    "    \n",
    "    model.add(layers.Conv2DTranspose(128, (3, 3), strides=(2, 2), padding='same', use_bias=False, kernel_initializer=init)) \n",
    "    model.add(layers.BatchNormalization()) \n",
    "    model.add(layers.LeakyReLU(alpha=0.2))\n",
    "\n",
    "    model.add(layers.Conv2DTranspose(64, (3, 3), strides=(2, 2), padding='same', use_bias=False, kernel_initializer=init)) \n",
    "    model.add(layers.BatchNormalization())\n",
    "    model.add(layers.LeakyReLU(alpha=0.2)) \n",
    "\n",
    "    model.add(layers.Conv2DTranspose(32, (4, 4), strides=(1, 1), padding='valid', use_bias=False, kernel_initializer=init))\n",
    "    model.add(layers.BatchNormalization())\n",
    "    model.add(layers.LeakyReLU(alpha=0.2)) \n",
    "\n",
    "    model.add(layers.Conv2D(1, (3, 3), padding='same', use_bias=False, activation='tanh')) \n",
    "    return model"
   ]
  }
 ],
 "metadata": {
  "kernelspec": {
   "display_name": "Python 3.9.13 64-bit (microsoft store)",
   "language": "python",
   "name": "python3"
  },
  "language_info": {
   "codemirror_mode": {
    "name": "ipython",
    "version": 3
   },
   "file_extension": ".py",
   "mimetype": "text/x-python",
   "name": "python",
   "nbconvert_exporter": "python",
   "pygments_lexer": "ipython3",
   "version": "3.9.13"
  },
  "orig_nbformat": 4,
  "vscode": {
   "interpreter": {
    "hash": "9f23c9f91c2dfb2c62a1ac6de8746b29aa1fc28b9b877c558c38d2599ebb40ee"
   }
  }
 },
 "nbformat": 4,
 "nbformat_minor": 2
}
